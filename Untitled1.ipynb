{
 "cells": [
  {
   "cell_type": "code",
   "execution_count": null,
   "metadata": {},
   "outputs": [],
   "source": [
    "def check_ADP(title):\n",
    "    check=\"\"\n",
    "    \n",
    "    for item in strip_list:\n",
    "        title = remove_prefix(title,item)\n",
    "        \n",
    "    for item in strip_list_last:\n",
    "        title = remove_suffix(title,item)\n",
    "    doc = nlp(title)\n",
    "    text=\"\"\n",
    "    pos=\"\"\n",
    "    tag=\"\"\n",
    "    dep=\"\"\n",
    "    \n",
    "    for idx,token in enumerate(doc):\n",
    "#         text+=token.text+\" \"\n",
    "#         pos+=token.pos_+\" \"\n",
    "#         tag+=token.tag_+\" \"\n",
    "#         dep+=token.dep_+\" \"\n",
    "\n",
    "#         if token.pos_==\"ADP\" and token.text==\"with\":\n",
    "        \n",
    "        if token.pos_==\"VERB\" and idx ==0:\n",
    "            print(title)\n",
    "            check=token.text\n",
    "    \n",
    "    return check"
   ]
  },
  {
   "cell_type": "code",
   "execution_count": 1,
   "metadata": {},
   "outputs": [],
   "source": [
    "import pandas as pd\n",
    "df = pd.read_csv(\"api_method_desc.csv\")"
   ]
  },
  {
   "cell_type": "code",
   "execution_count": null,
   "metadata": {},
   "outputs": [],
   "source": []
  }
 ],
 "metadata": {
  "kernelspec": {
   "display_name": "Python 3",
   "language": "python",
   "name": "python3"
  },
  "language_info": {
   "codemirror_mode": {
    "name": "ipython",
    "version": 3
   },
   "file_extension": ".py",
   "mimetype": "text/x-python",
   "name": "python",
   "nbconvert_exporter": "python",
   "pygments_lexer": "ipython3",
   "version": "3.8.2"
  }
 },
 "nbformat": 4,
 "nbformat_minor": 4
}
